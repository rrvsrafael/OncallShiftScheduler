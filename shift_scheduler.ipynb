{
 "cells": [
  {
   "cell_type": "markdown",
   "metadata": {},
   "source": [
    "### Shift Scheduler\n",
    "\n",
    "In various companies, we implement on-call duties wherein an employee needs to remain available during designated timeframes and be capable of addressing any arising issues. This practice is typically organized through shifts, where each worker assumes on-call responsibilities for a specific period before being relieved by another colleague. However, the challenge lies in the fact that the distribution of these shifts is often not optimized, leading to potential imbalances where some individuals end up working more frequently than others during critical periods such as holidays or birthdays. This problem can be effectively addressed through the application of a straightforward algorithm, ensuring a fairer allocation of shifts across the team. By achieving a fairer distribution, this approach enhances worker satisfaction, minimizes frequent shift changes — a source of frustration - and thereby contributes to a smoother work environment.\n"
   ]
  },
  {
   "cell_type": "markdown",
   "metadata": {},
   "source": [
    "Let's establish the target year for our scheduling and define the default properties for the on-call shifts.\n"
   ]
  },
  {
   "cell_type": "code",
   "execution_count": 155,
   "metadata": {},
   "outputs": [],
   "source": [
    "import datetime\n",
    "import math\n",
    "import pandas as pd\n",
    "import os\n",
    "import json\n",
    "import random\n",
    "\n",
    "year = 2024\n",
    "\n",
    "# Get total number of weeks of the year, starting to count at the first monday\n",
    "first_monday = datetime.date(\n",
    "    year, 1, 1) + datetime.timedelta(days=7 - datetime.date(year, 1, 1).weekday())\n",
    "last_monday = datetime.date(\n",
    "    year, 12, 31) - datetime.timedelta(days=datetime.date(year, 12, 31).weekday())\n",
    "total_weeks = math.ceil((last_monday - first_monday).days / 7) + 1\n"
   ]
  },
  {
   "cell_type": "markdown",
   "metadata": {},
   "source": [
    "Now let's import the json files filled with team data. Each file must contain each person preferences of restricted days, following the dateformat defined above. SEV2 days should be the most restrictive, followed by SEV3. SEV1 are prohibited days and should only exist in case of OOTOs already scheduled. The file must be named as the member name, and must be in the folder assets.\n"
   ]
  },
  {
   "cell_type": "code",
   "execution_count": 156,
   "metadata": {},
   "outputs": [
    {
     "name": "stdout",
     "output_type": "stream",
     "text": [
      "               SEV1      SEV2    SEV3\n",
      "Amelia     [50, 21]  [50, 21]  [5, 5]\n",
      "Gabriel          []  [50, 51]    [16]\n",
      "Fi               []  [48, 48]      []\n",
      "Benjami     [7, 21]  [50, 51]    [16]\n",
      "Isabella         []  [50, 51]    [16]\n",
      "Emma             []  [41, 46]    [-1]\n",
      "Daniel           []  [26, 16]    [34]\n",
      "Charlotte      [19]  [50, 51]    [16]\n"
     ]
    }
   ],
   "source": [
    "def convert_to_weeks(days):\n",
    "    weeks = []\n",
    "    for day in days:\n",
    "        date = datetime.datetime.strptime(day + '-' + str(year),\n",
    "                                          \"%d-%m-%Y\").date()\n",
    "        weeks.append((date - first_monday).days // 7)\n",
    "    return weeks\n",
    "\n",
    "\n",
    "members = []\n",
    "columns = ['SEV1', 'SEV2', 'SEV3']\n",
    "team_preferences = pd.DataFrame(columns=columns)\n",
    "\n",
    "for file in os.listdir('assets'):\n",
    "    if file.endswith('.json'):\n",
    "        member = file.strip('.json')\n",
    "        members.append(member)\n",
    "\n",
    "        with open('assets/' + file) as json_file:\n",
    "            content = json.load(json_file)\n",
    "            team_preferences.loc[member] = [convert_to_weeks(content['SEV1']),\n",
    "                                            convert_to_weeks(content['SEV2']),\n",
    "                                            convert_to_weeks(content['SEV3'])]\n",
    "\n",
    "print(team_preferences)\n",
    "\n",
    "min_shifts = total_weeks // len(members)\n",
    "max_shifts = total_weeks // len(members) + 1\n"
   ]
  },
  {
   "cell_type": "markdown",
   "metadata": {},
   "source": [
    "Now we have to iterate over the weeks and the members preferences to create the best possible schedule."
   ]
  },
  {
   "cell_type": "code",
   "execution_count": 157,
   "metadata": {},
   "outputs": [
    {
     "name": "stdout",
     "output_type": "stream",
     "text": [
      "3 ['Isabella', 'Gabriel', 'Amelia', 'Charlotte', 'Daniel', 'Benjami', 'Emma', 'Fi', 'Charlotte', 'Daniel', 'Benjami', 'Amelia', 'Isabella', 'Fi', 'Gabriel', 'Emma', 'Benjami', 'Isabella', 'Amelia', 'Fi', 'Emma', 'Charlotte', 'Gabriel', 'Daniel', 'Isabella', 'Benjami', 'Amelia', 'Fi', 'Emma', 'Gabriel', 'Daniel', 'Charlotte', 'Fi', 'Benjami', 'Emma', 'Daniel', 'Charlotte', 'Amelia', 'Isabella', 'Gabriel', 'Emma', 'Charlotte', 'Daniel', 'Amelia', 'Isabella', 'Fi', 'Benjami', 'Gabriel', 'Emma', 'Isabella', 'Charlotte', 'Amelia']\n",
      "5 ['Charlotte', 'Fi', 'Daniel', 'Isabella', 'Gabriel', 'Emma', 'Benjami', 'Amelia', 'Isabella', 'Charlotte', 'Emma', 'Benjami', 'Gabriel', 'Daniel', 'Amelia', 'Fi', 'Charlotte', 'Isabella', 'Emma', 'Benjami', 'Fi', 'Daniel', 'Gabriel', 'Amelia', 'Charlotte', 'Emma', 'Isabella', 'Fi', 'Gabriel', 'Amelia', 'Daniel', 'Benjami', 'Emma', 'Gabriel', 'Amelia', 'Daniel', 'Charlotte', 'Benjami', 'Fi', 'Isabella', 'Daniel', 'Emma', 'Gabriel', 'Charlotte', 'Isabella', 'Amelia', 'Fi', 'Benjami', 'Daniel', 'Isabella', 'Emma', 'Charlotte']\n",
      "3 ['Emma', 'Amelia', 'Fi', 'Daniel', 'Benjami', 'Isabella', 'Gabriel', 'Charlotte', 'Daniel', 'Amelia', 'Emma', 'Isabella', 'Charlotte', 'Fi', 'Benjami', 'Gabriel', 'Emma', 'Amelia', 'Fi', 'Isabella', 'Benjami', 'Charlotte', 'Gabriel', 'Daniel', 'Amelia', 'Benjami', 'Charlotte', 'Emma', 'Isabella', 'Daniel', 'Gabriel', 'Fi', 'Charlotte', 'Isabella', 'Daniel', 'Benjami', 'Gabriel', 'Emma', 'Fi', 'Amelia', 'Isabella', 'Charlotte', 'Emma', 'Fi', 'Gabriel', 'Benjami', 'Amelia', 'Daniel', 'Isabella', 'Emma', 'Gabriel', 'Fi']\n"
     ]
    },
    {
     "ename": "KeyboardInterrupt",
     "evalue": "",
     "output_type": "error",
     "traceback": [
      "\u001b[0;31m---------------------------------------------------------------------------\u001b[0m",
      "\u001b[0;31mKeyboardInterrupt\u001b[0m                         Traceback (most recent call last)",
      "Cell \u001b[0;32mIn[157], line 45\u001b[0m\n\u001b[1;32m     41\u001b[0m             penalty \u001b[39m=\u001b[39m calculate_permutation_penalty(permutation)\n\u001b[1;32m     42\u001b[0m             \u001b[39mprint\u001b[39m(penalty, permutation)\n\u001b[0;32m---> 45\u001b[0m generate_valid_permutations()\n",
      "Cell \u001b[0;32mIn[157], line 39\u001b[0m, in \u001b[0;36mgenerate_valid_permutations\u001b[0;34m()\u001b[0m\n\u001b[1;32m     37\u001b[0m \u001b[39mdef\u001b[39;00m \u001b[39mgenerate_valid_permutations\u001b[39m():\n\u001b[1;32m     38\u001b[0m     \u001b[39mwhile\u001b[39;00m (\u001b[39mTrue\u001b[39;00m):\n\u001b[0;32m---> 39\u001b[0m         permutation \u001b[39m=\u001b[39m generate_random_permutation()\n\u001b[1;32m     40\u001b[0m         \u001b[39mif\u001b[39;00m (check_permutation(permutation)):\n\u001b[1;32m     41\u001b[0m             penalty \u001b[39m=\u001b[39m calculate_permutation_penalty(permutation)\n",
      "Cell \u001b[0;32mIn[157], line 4\u001b[0m, in \u001b[0;36mgenerate_random_permutation\u001b[0;34m()\u001b[0m\n\u001b[1;32m      2\u001b[0m permutation \u001b[39m=\u001b[39m []\n\u001b[1;32m      3\u001b[0m \u001b[39mwhile\u001b[39;00m (\u001b[39mlen\u001b[39m(permutation) \u001b[39m<\u001b[39m total_weeks):\n\u001b[0;32m----> 4\u001b[0m     available \u001b[39m=\u001b[39m members\u001b[39m.\u001b[39;49mcopy()\n\u001b[1;32m      5\u001b[0m     \u001b[39mwhile\u001b[39;00m (\u001b[39mlen\u001b[39m(available) \u001b[39m>\u001b[39m \u001b[39m0\u001b[39m):\n\u001b[1;32m      6\u001b[0m         random_index \u001b[39m=\u001b[39m random\u001b[39m.\u001b[39mrandint(\u001b[39m0\u001b[39m, \u001b[39mlen\u001b[39m(available)\u001b[39m-\u001b[39m\u001b[39m1\u001b[39m)\n",
      "\u001b[0;31mKeyboardInterrupt\u001b[0m: "
     ]
    }
   ],
   "source": [
    "def generate_random_permutation():\n",
    "    permutation = []\n",
    "    while (len(permutation) < total_weeks):\n",
    "        available = members.copy()\n",
    "        while (len(available) > 0):\n",
    "            random_index = random.randint(0, len(available)-1)\n",
    "            member = available[random_index]\n",
    "            permutation.append(member)\n",
    "            available.remove(member)\n",
    "    return permutation[:total_weeks]\n",
    "\n",
    "\n",
    "def check_permutation(permutation):\n",
    "    for week in range(total_weeks):\n",
    "        member = permutation[week]\n",
    "        if (member in permutation[week - math.ceil(len(members)/2) : week]):\n",
    "            return False\n",
    "        blocked_weeks = team_preferences.at[member, 'SEV1']\n",
    "        if (week in blocked_weeks):\n",
    "            return False\n",
    "    return True\n",
    "\n",
    "\n",
    "def calculate_permutation_penalty(permutation):\n",
    "    penalty = 0\n",
    "    for week in range(total_weeks):\n",
    "        member = permutation[week]\n",
    "        sev2_weeks = team_preferences.at[member, 'SEV2']\n",
    "        if (week in sev2_weeks):\n",
    "            penalty += 2\n",
    "        sev3_weeks = team_preferences.at[member, 'SEV3']\n",
    "        if (week in sev3_weeks):\n",
    "            penalty += 1\n",
    "    return penalty\n",
    "\n",
    "\n",
    "def generate_valid_permutations():\n",
    "    while (True):\n",
    "        permutation = generate_random_permutation()\n",
    "        if (check_permutation(permutation)):\n",
    "            penalty = calculate_permutation_penalty(permutation)\n",
    "            print(penalty, permutation)\n",
    "\n",
    "\n",
    "generate_valid_permutations()\n"
   ]
  }
 ],
 "metadata": {
  "kernelspec": {
   "display_name": "Python 3",
   "language": "python",
   "name": "python3"
  },
  "language_info": {
   "codemirror_mode": {
    "name": "ipython",
    "version": 3
   },
   "file_extension": ".py",
   "mimetype": "text/x-python",
   "name": "python",
   "nbconvert_exporter": "python",
   "pygments_lexer": "ipython3",
   "version": "3.9.6"
  },
  "orig_nbformat": 4
 },
 "nbformat": 4,
 "nbformat_minor": 2
}
